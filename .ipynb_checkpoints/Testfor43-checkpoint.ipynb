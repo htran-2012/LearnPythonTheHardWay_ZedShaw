{
 "cells": [
  {
   "cell_type": "code",
   "execution_count": 1,
   "metadata": {},
   "outputs": [],
   "source": [
    "from sys import exit\n",
    "from random import randint\n"
   ]
  },
  {
   "cell_type": "code",
   "execution_count": 2,
   "metadata": {},
   "outputs": [],
   "source": [
    "class Scene(object):\n",
    "\n",
    "    def enter(self):\n",
    "        print (\"This scene is not yet configured. Subclass it and implement enter().\")\n",
    "        exit(1)"
   ]
  },
  {
   "cell_type": "code",
   "execution_count": 3,
   "metadata": {},
   "outputs": [],
   "source": [
    "class Engine(object):\n",
    "\n",
    "    def __init__(self, scene_map):\n",
    "        self.scene_map = scene_map\n",
    "\n",
    "    def play(self):\n",
    "        current_scene = self.scene_map.opening_scene()\n",
    "        last_scene = self.scene_map.next_scene('finished')\n",
    "\n",
    "        while current_scene != last_scene:\n",
    "            next_scene_name = current_scene.enter()\n",
    "            current_scene = self.scene_map.next_scene(next_scene_name)\n",
    "\n",
    "        # be sure to print out the last scene\n",
    "        current_scene.enter()"
   ]
  },
  {
   "cell_type": "code",
   "execution_count": 4,
   "metadata": {},
   "outputs": [],
   "source": [
    "class Death(Scene):\n",
    "\n",
    "    quips = [\n",
    "        \"You died.  You kinda suck at this.\"\n",
    "    ]\n",
    "\n",
    "    def enter(self):\n",
    "        print (Death.quips[randint(0, len(self.quips)-1)])\n",
    "        exit(1)"
   ]
  },
  {
   "cell_type": "code",
   "execution_count": 5,
   "metadata": {},
   "outputs": [],
   "source": [
    "class CentralCorridor(Scene):\n",
    "\n",
    "    def enter(self):\n",
    "        print (\"The Gothons of Planet Percal #25 have invaded your ship and destroyed\")\n",
    "        action = input(\"> \")\n",
    "\n",
    "        if action == \"shoot!\":\n",
    "            print (\"you are dead.  Then he eats you.\")\n",
    "            return 'death'\n",
    "\n",
    "        elif action == \"tell a joke\":\n",
    "            print (\"putting him down, then jump through the Weapon Armory door.\")\n",
    "            return 'finished'\n",
    "\n",
    "        else:\n",
    "            print (\"DOES NOT COMPUTE!\")\n",
    "            return 'central_corridor'"
   ]
  },
  {
   "cell_type": "code",
   "execution_count": 6,
   "metadata": {},
   "outputs": [],
   "source": [
    "class Finished(Scene):\n",
    "\n",
    "    def enter(self):\n",
    "        print (\"You won! Good job.\")\n",
    "        return 'finished'"
   ]
  },
  {
   "cell_type": "code",
   "execution_count": 7,
   "metadata": {},
   "outputs": [],
   "source": [
    "class Map(object):\n",
    "\n",
    "    scenes = {\n",
    "        'central_corridor': CentralCorridor(),\n",
    "        'death': Death(),\n",
    "        'finished': Finished(),\n",
    "    }\n",
    "\n",
    "    def __init__(self, start_scene):\n",
    "        self.start_scene = start_scene\n",
    "\n",
    "\n",
    "    def next_scene(self, scene_name):\n",
    "        val = Map.scenes.get(scene_name)\n",
    "        return val\n",
    "\n",
    "    def opening_scene(self):\n",
    "        return self.next_scene(self.start_scene)\n",
    "        \n",
    "        \n"
   ]
  },
  {
   "cell_type": "code",
   "execution_count": 8,
   "metadata": {},
   "outputs": [
    {
     "name": "stdout",
     "output_type": "stream",
     "text": [
      "The Gothons of Planet Percal #25 have invaded your ship and destroyed\n",
      "> tell a joke\n",
      "putting him down, then jump through the Weapon Armory door.\n"
     ]
    }
   ],
   "source": [
    "a_map = Map('central_corridor')\n",
    "a_game = Engine(a_map)\n",
    "a_game.play()"
   ]
  },
  {
   "cell_type": "code",
   "execution_count": null,
   "metadata": {},
   "outputs": [],
   "source": []
  },
  {
   "cell_type": "code",
   "execution_count": null,
   "metadata": {},
   "outputs": [],
   "source": [
    "code = f\"{randint(1,9)}{randint(1,9)}\"\n",
    "        guess = input(\"[keypad]> \")\n",
    "        guesses = 0\n",
    "\n",
    "while int(guess) != int(code) and guesses < 10:\n",
    "    print(\"BZZZZEDDD!\")\n",
    "\n",
    "    guesses += 1\n",
    "    guess = input(\"[keypad]> \")\n",
    "if guess == code:\n",
    "    print('right code')\n",
    "else:\n",
    "    print('wrong code')"
   ]
  }
 ],
 "metadata": {
  "kernelspec": {
   "display_name": "Python 3",
   "language": "python",
   "name": "python3"
  },
  "language_info": {
   "codemirror_mode": {
    "name": "ipython",
    "version": 3
   },
   "file_extension": ".py",
   "mimetype": "text/x-python",
   "name": "python",
   "nbconvert_exporter": "python",
   "pygments_lexer": "ipython3",
   "version": "3.7.4"
  }
 },
 "nbformat": 4,
 "nbformat_minor": 2
}
