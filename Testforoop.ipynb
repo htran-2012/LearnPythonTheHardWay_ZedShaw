{
 "cells": [
  {
   "cell_type": "code",
   "execution_count": 37,
   "metadata": {},
   "outputs": [],
   "source": [
    "import random\n",
    "from urllib.request import urlopen\n",
    "import sys\n"
   ]
  },
  {
   "cell_type": "code",
   "execution_count": 38,
   "metadata": {},
   "outputs": [],
   "source": [
    "\n",
    "PHRASES = {\n",
    "\"class %%%(%%%):\":\n",
    "\"Make a class named %%% that is-a %%%.\",\n",
    "\"class %%%(object):\\n\\tdef __init__(self, ***)\" :\n",
    "\"class %%% has-a __init__ that takes self and *** params.\",\n",
    "\"class %%%(object):\\n\\tdef ***(self, @@@)\":\n",
    "\"class %%% has-a function *** that takes self and @@@ params.\",\n",
    "\"*** = %%%()\":\n",
    "\"Set *** to an instance of class %%%.\",\n",
    "\"***.***(@@@)\":\n",
    "\"From *** get the *** function, call it with params self, @@@.\",\n",
    "\"***.*** = '***'\":\n",
    "\"From *** get the *** attribute and set it to '***'.\"\n",
    "}"
   ]
  },
  {
   "cell_type": "code",
   "execution_count": 39,
   "metadata": {},
   "outputs": [],
   "source": [
    "# do they want to drill phrases first\n",
    "if len(sys.argv) == 2 and sys.argv[1] == \"english\":\n",
    "    PHRASE_FIRST =  True\n",
    "else:\n",
    "    PHRASE_FIRST = False\n",
    "    \n",
    "    "
   ]
  },
  {
   "cell_type": "code",
   "execution_count": 40,
   "metadata": {},
   "outputs": [],
   "source": [
    "WORDS = ['A', 'B', 'C', 'D', 'E', 'F', 'G']"
   ]
  },
  {
   "cell_type": "code",
   "execution_count": 41,
   "metadata": {
    "scrolled": true
   },
   "outputs": [
    {
     "data": {
      "text/plain": [
       "['class %%%(%%%):',\n",
       " 'class %%%(object):\\n\\tdef __init__(self, ***)',\n",
       " 'class %%%(object):\\n\\tdef ***(self, @@@)',\n",
       " '*** = %%%()',\n",
       " '***.***(@@@)',\n",
       " \"***.*** = '***'\"]"
      ]
     },
     "execution_count": 41,
     "metadata": {},
     "output_type": "execute_result"
    }
   ],
   "source": [
    "snippets = list(PHRASES.keys())\n",
    "\n",
    "snippets"
   ]
  },
  {
   "cell_type": "code",
   "execution_count": 47,
   "metadata": {},
   "outputs": [
    {
     "name": "stdout",
     "output_type": "stream",
     "text": [
      "['class B(C):']\n",
      "---\n",
      "['class B(C):', 'Make a class named B that is-a C.']\n",
      "---\n",
      "['class B(C):', 'Make a class named B that is-a C.']\n",
      "end loop\n",
      "['class D(object):\\n\\tdef __init__(self, C)']\n",
      "---\n",
      "['class D(object):\\n\\tdef __init__(self, C)', 'class D has-a __init__ that takes self and C params.']\n",
      "---\n",
      "['class D(object):\\n\\tdef __init__(self, C)', 'class D has-a __init__ that takes self and C params.']\n",
      "end loop\n",
      "['class E(object):\\n\\tdef G(self, E, C, G)']\n",
      "---\n",
      "['class E(object):\\n\\tdef G(self, E, C, G)', 'class E has-a function G that takes self and E, C, G params.']\n",
      "---\n",
      "['class E(object):\\n\\tdef G(self, E, C, G)', 'class E has-a function G that takes self and E, C, G params.']\n",
      "end loop\n",
      "['G = F()']\n",
      "---\n",
      "['G = F()', 'Set G to an instance of class F.']\n",
      "---\n",
      "['G = F()', 'Set G to an instance of class F.']\n",
      "end loop\n",
      "['E.F(D, E)']\n",
      "---\n",
      "['E.F(D, E)', 'From E get the F function, call it with params self, D, E.']\n",
      "---\n",
      "['E.F(D, E)', 'From E get the F function, call it with params self, D, E.']\n",
      "end loop\n",
      "[\"A.D = 'E'\"]\n",
      "---\n",
      "[\"A.D = 'E'\", \"From A get the D attribute and set it to 'E'.\"]\n",
      "---\n",
      "[\"A.D = 'E'\", \"From A get the D attribute and set it to 'E'.\"]\n",
      "end loop\n"
     ]
    }
   ],
   "source": [
    "for snippet in snippets:\n",
    "    #print(snippet)\n",
    "    phrase = PHRASES[snippet]\n",
    "    #print(phrase)\n",
    "    class_names = [w.capitalize() for w in random.sample(WORDS, snippet.count(\"%%%\"))]\n",
    "    #print(class_names)\n",
    "    other_names = random.sample(WORDS, snippet.count(\"***\"))\n",
    "    #print(other_names)\n",
    "    param_names = []\n",
    "    results = []\n",
    "    for i in range(0, snippet.count(\"@@@\")):\n",
    "        param_count = random.randint(1,3)\n",
    "        param_names.append(', '.join(random.sample(WORDS, param_count)))\n",
    "        #print(param_names)\n",
    "    for sentence in snippet, phrase:\n",
    "        result = sentence[:]\n",
    "        \n",
    "        #fake class names\n",
    "        for word in class_names:\n",
    "            result = result.replace(\"%%%\", word, 1)\n",
    "            \n",
    "        #fake other names\n",
    "        for word in other_names:\n",
    "            result = result.replace(\"***\", word, 1)\n",
    "            \n",
    "        #fake param lists\n",
    "        for word in param_names:\n",
    "            result = result.replace(\"@@@\", word, 1)\n",
    "        \n",
    "        results.append(result)\n",
    "        print(results)\n",
    "        print('---')\n",
    "    print(results)\n",
    "    print('end loop')\n",
    "\n",
    "    \n",
    "\n"
   ]
  },
  {
   "cell_type": "code",
   "execution_count": 16,
   "metadata": {},
   "outputs": [],
   "source": [
    "def convert(snippet, phrase):\n",
    "    class_names = [w.capitalize() for w in random.sample(WORDS, snippet.count(\"%%%\"))]\n",
    "    other_names = random.sample(WORDS, snippet.count(\"***\"))\n",
    "    param_names = []\n",
    "    results = []\n",
    "    \n",
    "    \n",
    "    for i in range(0, snippet.count(\"@@@\")):\n",
    "        param_count = random.randint(1,3)\n",
    "        param_names.append(', '.join(random.sample(WORDS, param_count)))\n",
    "\n",
    "    for sentence in snippet, phrase:\n",
    "        result = sentence[:]\n",
    "        \n",
    "        #fake class names\n",
    "        for word in class_names:\n",
    "            result = result.replace(\"%%%\", word, 1)\n",
    "            \n",
    "        #fake other names\n",
    "        for word in other_names:\n",
    "            result = result.replace(\"***\", word, 1)\n",
    "            \n",
    "        #fake param lists\n",
    "        for word in param_names:\n",
    "            result = result.replace(\"@@@\", word, 1)\n",
    "        \n",
    "        results.append(result)\n",
    "        \n",
    "    return results\n",
    "    "
   ]
  },
  {
   "cell_type": "code",
   "execution_count": null,
   "metadata": {},
   "outputs": [],
   "source": []
  },
  {
   "cell_type": "code",
   "execution_count": null,
   "metadata": {},
   "outputs": [],
   "source": []
  }
 ],
 "metadata": {
  "kernelspec": {
   "display_name": "Python 3",
   "language": "python",
   "name": "python3"
  },
  "language_info": {
   "codemirror_mode": {
    "name": "ipython",
    "version": 3
   },
   "file_extension": ".py",
   "mimetype": "text/x-python",
   "name": "python",
   "nbconvert_exporter": "python",
   "pygments_lexer": "ipython3",
   "version": "3.7.4"
  }
 },
 "nbformat": 4,
 "nbformat_minor": 2
}
